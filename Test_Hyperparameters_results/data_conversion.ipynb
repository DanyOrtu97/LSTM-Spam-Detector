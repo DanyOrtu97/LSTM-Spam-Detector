{
 "cells": [
  {
   "cell_type": "code",
   "execution_count": 1,
   "metadata": {},
   "outputs": [],
   "source": [
    "import numpy as np"
   ]
  },
  {
   "cell_type": "code",
   "execution_count": 2,
   "metadata": {},
   "outputs": [],
   "source": [
    "def funName(function):\n",
    "    if \"mean_squared_error\" in function:\n",
    "        return \"MSE\"\n",
    "    if \"binary_crossentropy\" in function:\n",
    "        return \"BCE\"\n",
    "    if \"RMSprop\" in function:\n",
    "        return \"RMSprop\"\n",
    "    if \"Adam\" in function:\n",
    "        return \"Adam\"\n",
    "    raise Exception()"
   ]
  },
  {
   "cell_type": "code",
   "execution_count": 14,
   "metadata": {},
   "outputs": [],
   "source": [
    "results = []\n",
    "with open('../resultsDLA', 'r') as f:\n",
    "    Lines = f.readlines()\n",
    "    for line in Lines:\n",
    "        results.append(line)"
   ]
  },
  {
   "cell_type": "code",
   "execution_count": 4,
   "metadata": {},
   "outputs": [
    {
     "data": {
      "text/plain": "48"
     },
     "execution_count": 4,
     "metadata": {},
     "output_type": "execute_result"
    }
   ],
   "source": [
    "len(results)"
   ]
  },
  {
   "cell_type": "code",
   "execution_count": 15,
   "metadata": {},
   "outputs": [],
   "source": [
    "for i,r in enumerate(results):\n",
    "    results[i] = r.split(\" \")"
   ]
  },
  {
   "cell_type": "code",
   "execution_count": 7,
   "metadata": {},
   "outputs": [
    {
     "data": {
      "text/plain": "[['BatchSize:',\n  '16',\n  'Loss:<function',\n  'mean_squared_error',\n  'at',\n  '0x7f76fddf7bf8>',\n  'Optimizer:<class',\n  \"'tensorflow.python.keras.optimizer_v2.rmsprop.RMSprop'>\",\n  'LearningRate:',\n  '0.005',\n  'TrainAcc:',\n  '0.8652121424674988',\n  'TestAcc:',\n  '0.8659353375434875\\n'],\n ['BatchSize:',\n  '16',\n  'Loss:<function',\n  'mean_squared_error',\n  'at',\n  '0x7f76fddf7bf8>',\n  'Optimizer:<class',\n  \"'tensorflow.python.keras.optimizer_v2.rmsprop.RMSprop'>\",\n  'LearningRate:',\n  '0.001',\n  'TrainAcc:',\n  '0.9391459226608276',\n  'TestAcc:',\n  '0.9314276337623596\\n'],\n ['BatchSize:',\n  '16',\n  'Loss:<function',\n  'mean_squared_error',\n  'at',\n  '0x7f76fddf7bf8>',\n  'Optimizer:<class',\n  \"'tensorflow.python.keras.optimizer_v2.rmsprop.RMSprop'>\",\n  'LearningRate:',\n  '0.0005',\n  'TrainAcc:',\n  '0.9635856628417969',\n  'TestAcc:',\n  '0.9574972987174988\\n'],\n ['BatchSize:',\n  '32',\n  'Loss:<function',\n  'mean_squared_error',\n  'at',\n  '0x7f76fddf7bf8>',\n  'Optimizer:<class',\n  \"'tensorflow.python.keras.optimizer_v2.rmsprop.RMSprop'>\",\n  'LearningRate:',\n  '0.005',\n  'TrainAcc:',\n  '0.9529418706893921',\n  'TestAcc:',\n  '0.9553077936172485\\n'],\n ['BatchSize:',\n  '32',\n  'Loss:<function',\n  'mean_squared_error',\n  'at',\n  '0x7f76fddf7bf8>',\n  'Optimizer:<class',\n  \"'tensorflow.python.keras.optimizer_v2.rmsprop.RMSprop'>\",\n  'LearningRate:',\n  '0.001',\n  'TrainAcc:',\n  '0.9903527021408081',\n  'TestAcc:',\n  '0.9825930118560791\\n'],\n ['BatchSize:',\n  '32',\n  'Loss:<function',\n  'mean_squared_error',\n  'at',\n  '0x7f76fddf7bf8>',\n  'Optimizer:<class',\n  \"'tensorflow.python.keras.optimizer_v2.rmsprop.RMSprop'>\",\n  'LearningRate:',\n  '0.0005',\n  'TrainAcc:',\n  '0.9901840925216675',\n  'TestAcc:',\n  '0.9815138697624206\\n'],\n ['BatchSize:',\n  '64',\n  'Loss:<function',\n  'mean_squared_error',\n  'at',\n  '0x7f76fddf7bf8>',\n  'Optimizer:<class',\n  \"'tensorflow.python.keras.optimizer_v2.rmsprop.RMSprop'>\",\n  'LearningRate:',\n  '0.005',\n  'TrainAcc:',\n  '0.9381229758262635',\n  'TestAcc:',\n  '0.9384667754173279\\n'],\n ['BatchSize:',\n  '64',\n  'Loss:<function',\n  'mean_squared_error',\n  'at',\n  '0x7f76fddf7bf8>',\n  'Optimizer:<class',\n  \"'tensorflow.python.keras.optimizer_v2.rmsprop.RMSprop'>\",\n  'LearningRate:',\n  '0.001',\n  'TrainAcc:',\n  '0.9880526185035705',\n  'TestAcc:',\n  '0.9831303238868714\\n'],\n ['BatchSize:',\n  '64',\n  'Loss:<function',\n  'mean_squared_error',\n  'at',\n  '0x7f76fddf7bf8>',\n  'Optimizer:<class',\n  \"'tensorflow.python.keras.optimizer_v2.rmsprop.RMSprop'>\",\n  'LearningRate:',\n  '0.0005',\n  'TrainAcc:',\n  '0.9904642462730407',\n  'TestAcc:',\n  '0.9825923562049865\\n'],\n ['BatchSize:',\n  '128',\n  'Loss:<function',\n  'mean_squared_error',\n  'at',\n  '0x7f76fddf7bf8>',\n  'Optimizer:<class',\n  \"'tensorflow.python.keras.optimizer_v2.rmsprop.RMSprop'>\",\n  'LearningRate:',\n  '0.005',\n  'TrainAcc:',\n  '0.9802555441856384',\n  'TestAcc:',\n  '0.9711019158363342\\n'],\n ['BatchSize:',\n  '128',\n  'Loss:<function',\n  'mean_squared_error',\n  'at',\n  '0x7f76fddf7bf8>',\n  'Optimizer:<class',\n  \"'tensorflow.python.keras.optimizer_v2.rmsprop.RMSprop'>\",\n  'LearningRate:',\n  '0.001',\n  'TrainAcc:',\n  '0.9915865063667297',\n  'TestAcc:',\n  '0.9818739175796509\\n'],\n ['BatchSize:',\n  '128',\n  'Loss:<function',\n  'mean_squared_error',\n  'at',\n  '0x7f76fddf7bf8>',\n  'Optimizer:<class',\n  \"'tensorflow.python.keras.optimizer_v2.rmsprop.RMSprop'>\",\n  'LearningRate:',\n  '0.0005',\n  'TrainAcc:',\n  '0.9907450437545776',\n  'TestAcc:',\n  '0.9831299781799316\\n'],\n ['BatchSize:',\n  '16',\n  'Loss:<function',\n  'binary_crossentropy',\n  'at',\n  '0x7f76fde008c8>',\n  'Optimizer:<class',\n  \"'tensorflow.python.keras.optimizer_v2.rmsprop.RMSprop'>\",\n  'LearningRate:',\n  '0.005',\n  'TrainAcc:',\n  '0.9104852676391602',\n  'TestAcc:',\n  '0.9016293048858642\\n'],\n ['BatchSize:',\n  '16',\n  'Loss:<function',\n  'binary_crossentropy',\n  'at',\n  '0x7f76fde008c8>',\n  'Optimizer:<class',\n  \"'tensorflow.python.keras.optimizer_v2.rmsprop.RMSprop'>\",\n  'LearningRate:',\n  '0.001',\n  'TrainAcc:',\n  '0.9374076366424561',\n  'TestAcc:',\n  '0.9357354760169982\\n'],\n ['BatchSize:',\n  '16',\n  'Loss:<function',\n  'binary_crossentropy',\n  'at',\n  '0x7f76fde008c8>',\n  'Optimizer:<class',\n  \"'tensorflow.python.keras.optimizer_v2.rmsprop.RMSprop'>\",\n  'LearningRate:',\n  '0.0005',\n  'TrainAcc:',\n  '0.9127856492996216',\n  'TestAcc:',\n  '0.9113195896148681\\n'],\n ['BatchSize:',\n  '32',\n  'Loss:<function',\n  'binary_crossentropy',\n  'at',\n  '0x7f76fde008c8>',\n  'Optimizer:<class',\n  \"'tensorflow.python.keras.optimizer_v2.rmsprop.RMSprop'>\",\n  'LearningRate:',\n  '0.005',\n  'TrainAcc:',\n  '0.9111459612846374',\n  'TestAcc:',\n  '0.9048940539360046\\n'],\n ['BatchSize:',\n  '32',\n  'Loss:<function',\n  'binary_crossentropy',\n  'at',\n  '0x7f76fde008c8>',\n  'Optimizer:<class',\n  \"'tensorflow.python.keras.optimizer_v2.rmsprop.RMSprop'>\",\n  'LearningRate:',\n  '0.001',\n  'TrainAcc:',\n  '0.9863135099411011',\n  'TestAcc:',\n  '0.983130943775177\\n'],\n ['BatchSize:',\n  '32',\n  'Loss:<function',\n  'binary_crossentropy',\n  'at',\n  '0x7f76fde008c8>',\n  'Optimizer:<class',\n  \"'tensorflow.python.keras.optimizer_v2.rmsprop.RMSprop'>\",\n  'LearningRate:',\n  '0.0005',\n  'TrainAcc:',\n  '0.9833407282829285',\n  'TestAcc:',\n  '0.9856424927711487\\n'],\n ['BatchSize:',\n  '64',\n  'Loss:<function',\n  'binary_crossentropy',\n  'at',\n  '0x7f76fde008c8>',\n  'Optimizer:<class',\n  \"'tensorflow.python.keras.optimizer_v2.rmsprop.RMSprop'>\",\n  'LearningRate:',\n  '0.005',\n  'TrainAcc:',\n  '0.8893848776817321',\n  'TestAcc:',\n  '0.7592926234006881\\n'],\n ['BatchSize:',\n  '64',\n  'Loss:<function',\n  'binary_crossentropy',\n  'at',\n  '0x7f76fde008c8>',\n  'Optimizer:<class',\n  \"'tensorflow.python.keras.optimizer_v2.rmsprop.RMSprop'>\",\n  'LearningRate:',\n  '0.001',\n  'TrainAcc:',\n  '0.9866507411003113',\n  'TestAcc:',\n  '0.9845675468444824\\n'],\n ['BatchSize:',\n  '64',\n  'Loss:<function',\n  'binary_crossentropy',\n  'at',\n  '0x7f76fde008c8>',\n  'Optimizer:<class',\n  \"'tensorflow.python.keras.optimizer_v2.rmsprop.RMSprop'>\",\n  'LearningRate:',\n  '0.0005',\n  'TrainAcc:',\n  '0.9859766125679016',\n  'TestAcc:',\n  '0.9815145134925842\\n'],\n ['BatchSize:',\n  '128',\n  'Loss:<function',\n  'binary_crossentropy',\n  'at',\n  '0x7f76fde008c8>',\n  'Optimizer:<class',\n  \"'tensorflow.python.keras.optimizer_v2.rmsprop.RMSprop'>\",\n  'LearningRate:',\n  '0.005',\n  'TrainAcc:',\n  '0.9856959342956543',\n  'TestAcc:',\n  '0.9813365936279297\\n'],\n ['BatchSize:',\n  '128',\n  'Loss:<function',\n  'binary_crossentropy',\n  'at',\n  '0x7f76fde008c8>',\n  'Optimizer:<class',\n  \"'tensorflow.python.keras.optimizer_v2.rmsprop.RMSprop'>\",\n  'LearningRate:',\n  '0.001',\n  'TrainAcc:',\n  '0.9851926684379577',\n  'TestAcc:',\n  '0.9833085656166076\\n'],\n ['BatchSize:',\n  '128',\n  'Loss:<function',\n  'binary_crossentropy',\n  'at',\n  '0x7f76fde008c8>',\n  'Optimizer:<class',\n  \"'tensorflow.python.keras.optimizer_v2.rmsprop.RMSprop'>\",\n  'LearningRate:',\n  '0.0005',\n  'TrainAcc:',\n  '0.986818814277649',\n  'TestAcc:',\n  '0.9845656156539917\\n'],\n ['BatchSize:',\n  '16',\n  'Loss:<function',\n  'mean_squared_error',\n  'at',\n  '0x7f76fddf7bf8>',\n  'Optimizer:<class',\n  \"'tensorflow.python.keras.optimizer_v2.adam.Adam'>\",\n  'LearningRate:',\n  '0.005',\n  'TrainAcc:',\n  '0.91216881275177',\n  'TestAcc:',\n  '0.9084460973739624\\n'],\n ['BatchSize:',\n  '16',\n  'Loss:<function',\n  'mean_squared_error',\n  'at',\n  '0x7f76fddf7bf8>',\n  'Optimizer:<class',\n  \"'tensorflow.python.keras.optimizer_v2.adam.Adam'>\",\n  'LearningRate:',\n  '0.001',\n  'TrainAcc:',\n  '0.9412076592445373',\n  'TestAcc:',\n  '0.935414707660675\\n'],\n ['BatchSize:',\n  '16',\n  'Loss:<function',\n  'mean_squared_error',\n  'at',\n  '0x7f76fddf7bf8>',\n  'Optimizer:<class',\n  \"'tensorflow.python.keras.optimizer_v2.adam.Adam'>\",\n  'LearningRate:',\n  '0.0005',\n  'TrainAcc:',\n  '0.9406467914581299',\n  'TestAcc:',\n  '0.9355942368507385\\n'],\n ['BatchSize:',\n  '32',\n  'Loss:<function',\n  'mean_squared_error',\n  'at',\n  '0x7f76fddf7bf8>',\n  'Optimizer:<class',\n  \"'tensorflow.python.keras.optimizer_v2.adam.Adam'>\",\n  'LearningRate:',\n  '0.005',\n  'TrainAcc:',\n  '0.9621972918510437',\n  'TestAcc:',\n  '0.9524327039718627\\n'],\n ['BatchSize:',\n  '32',\n  'Loss:<function',\n  'mean_squared_error',\n  'at',\n  '0x7f76fddf7bf8>',\n  'Optimizer:<class',\n  \"'tensorflow.python.keras.optimizer_v2.adam.Adam'>\",\n  'LearningRate:',\n  '0.001',\n  'TrainAcc:',\n  '0.9659554719924927',\n  'TestAcc:',\n  '0.9567392587661743\\n'],\n ['BatchSize:',\n  '32',\n  'Loss:<function',\n  'mean_squared_error',\n  'at',\n  '0x7f76fddf7bf8>',\n  'Optimizer:<class',\n  \"'tensorflow.python.keras.optimizer_v2.adam.Adam'>\",\n  'LearningRate:',\n  '0.0005',\n  'TrainAcc:',\n  '0.9437459349632263',\n  'TestAcc:',\n  '0.9305296540260315\\n'],\n ['BatchSize:',\n  '64',\n  'Loss:<function',\n  'mean_squared_error',\n  'at',\n  '0x7f76fddf7bf8>',\n  'Optimizer:<class',\n  \"'tensorflow.python.keras.optimizer_v2.adam.Adam'>\",\n  'LearningRate:',\n  '0.005',\n  'TrainAcc:',\n  '0.9639782667160034',\n  'TestAcc:',\n  '0.9508545637130738\\n'],\n ['BatchSize:',\n  '64',\n  'Loss:<function',\n  'mean_squared_error',\n  'at',\n  '0x7f76fddf7bf8>',\n  'Optimizer:<class',\n  \"'tensorflow.python.keras.optimizer_v2.adam.Adam'>\",\n  'LearningRate:',\n  '0.001',\n  'TrainAcc:',\n  '0.9943349361419678',\n  'TestAcc:',\n  '0.98366858959198\\n'],\n ['BatchSize:',\n  '64',\n  'Loss:<function',\n  'mean_squared_error',\n  'at',\n  '0x7f76fddf7bf8>',\n  'Optimizer:<class',\n  \"'tensorflow.python.keras.optimizer_v2.adam.Adam'>\",\n  'LearningRate:',\n  '0.0005',\n  'TrainAcc:',\n  '0.9929889082908631',\n  'TestAcc:',\n  '0.9818735837936401\\n'],\n ['BatchSize:',\n  '128',\n  'Loss:<function',\n  'mean_squared_error',\n  'at',\n  '0x7f76fddf7bf8>',\n  'Optimizer:<class',\n  \"'tensorflow.python.keras.optimizer_v2.adam.Adam'>\",\n  'LearningRate:',\n  '0.005',\n  'TrainAcc:',\n  '0.9937735438346863',\n  'TestAcc:',\n  '0.9784643888473511\\n'],\n ['BatchSize:',\n  '128',\n  'Loss:<function',\n  'mean_squared_error',\n  'at',\n  '0x7f76fddf7bf8>',\n  'Optimizer:<class',\n  \"'tensorflow.python.keras.optimizer_v2.adam.Adam'>\",\n  'LearningRate:',\n  '0.001',\n  'TrainAcc:',\n  '0.9928204536437988',\n  'TestAcc:',\n  '0.98277188539505\\n'],\n ['BatchSize:',\n  '128',\n  'Loss:<function',\n  'mean_squared_error',\n  'at',\n  '0x7f76fddf7bf8>',\n  'Optimizer:<class',\n  \"'tensorflow.python.keras.optimizer_v2.adam.Adam'>\",\n  'LearningRate:',\n  '0.0005',\n  'TrainAcc:',\n  '0.9418387770652771',\n  'TestAcc:',\n  '0.9357338666915893\\n'],\n ['BatchSize:',\n  '16',\n  'Loss:<function',\n  'binary_crossentropy',\n  'at',\n  '0x7f76fde008c8>',\n  'Optimizer:<class',\n  \"'tensorflow.python.keras.optimizer_v2.adam.Adam'>\",\n  'LearningRate:',\n  '0.005',\n  'TrainAcc:',\n  '0.8795699596405029',\n  'TestAcc:',\n  '0.8662944078445435\\n'],\n ['BatchSize:',\n  '16',\n  'Loss:<function',\n  'binary_crossentropy',\n  'at',\n  '0x7f76fde008c8>',\n  'Optimizer:<class',\n  \"'tensorflow.python.keras.optimizer_v2.adam.Adam'>\",\n  'LearningRate:',\n  '0.001',\n  'TrainAcc:',\n  '0.991025424003601',\n  'TestAcc:',\n  '0.9840283155441284\\n'],\n ['BatchSize:',\n  '16',\n  'Loss:<function',\n  'binary_crossentropy',\n  'at',\n  '0x7f76fde008c8>',\n  'Optimizer:<class',\n  \"'tensorflow.python.keras.optimizer_v2.adam.Adam'>\",\n  'LearningRate:',\n  '0.0005',\n  'TrainAcc:',\n  '0.9871538043022156',\n  'TestAcc:',\n  '0.9809759140014649\\n'],\n ['BatchSize:',\n  '32',\n  'Loss:<function',\n  'binary_crossentropy',\n  'at',\n  '0x7f76fde008c8>',\n  'Optimizer:<class',\n  \"'tensorflow.python.keras.optimizer_v2.adam.Adam'>\",\n  'LearningRate:',\n  '0.005',\n  'TrainAcc:',\n  '0.937013566493988',\n  'TestAcc:',\n  '0.9138707160949707\\n'],\n ['BatchSize:',\n  '32',\n  'Loss:<function',\n  'binary_crossentropy',\n  'at',\n  '0x7f76fde008c8>',\n  'Optimizer:<class',\n  \"'tensorflow.python.keras.optimizer_v2.adam.Adam'>\",\n  'LearningRate:',\n  '0.001',\n  'TrainAcc:',\n  '0.9877719163894654',\n  'TestAcc:',\n  '0.9833117723464966\\n'],\n ['BatchSize:',\n  '32',\n  'Loss:<function',\n  'binary_crossentropy',\n  'at',\n  '0x7f76fde008c8>',\n  'Optimizer:<class',\n  \"'tensorflow.python.keras.optimizer_v2.adam.Adam'>\",\n  'LearningRate:',\n  '0.0005',\n  'TrainAcc:',\n  '0.9609636783599853',\n  'TestAcc:',\n  '0.9594322562217712\\n'],\n ['BatchSize:',\n  '64',\n  'Loss:<function',\n  'binary_crossentropy',\n  'at',\n  '0x7f76fde008c8>',\n  'Optimizer:<class',\n  \"'tensorflow.python.keras.optimizer_v2.adam.Adam'>\",\n  'LearningRate:',\n  '0.005',\n  'TrainAcc:',\n  '0.9901839137077332',\n  'TestAcc:',\n  '0.9732559800148011\\n'],\n ['BatchSize:',\n  '64',\n  'Loss:<function',\n  'binary_crossentropy',\n  'at',\n  '0x7f76fde008c8>',\n  'Optimizer:<class',\n  \"'tensorflow.python.keras.optimizer_v2.adam.Adam'>\",\n  'LearningRate:',\n  '0.001',\n  'TrainAcc:',\n  '0.9871557474136352',\n  'TestAcc:',\n  '0.9807963848114014\\n'],\n ['BatchSize:',\n  '64',\n  'Loss:<function',\n  'binary_crossentropy',\n  'at',\n  '0x7f76fde008c8>',\n  'Optimizer:<class',\n  \"'tensorflow.python.keras.optimizer_v2.adam.Adam'>\",\n  'LearningRate:',\n  '0.0005',\n  'TrainAcc:',\n  '0.9512469053268433',\n  'TestAcc:',\n  '0.9382872223854065\\n'],\n ['BatchSize:',\n  '128',\n  'Loss:<function',\n  'binary_crossentropy',\n  'at',\n  '0x7f76fde008c8>',\n  'Optimizer:<class',\n  \"'tensorflow.python.keras.optimizer_v2.adam.Adam'>\",\n  'LearningRate:',\n  '0.005',\n  'TrainAcc:',\n  '0.9906888723373413',\n  'TestAcc:',\n  '0.982591712474823\\n'],\n ['BatchSize:',\n  '128',\n  'Loss:<function',\n  'binary_crossentropy',\n  'at',\n  '0x7f76fde008c8>',\n  'Optimizer:<class',\n  \"'tensorflow.python.keras.optimizer_v2.adam.Adam'>\",\n  'LearningRate:',\n  '0.001',\n  'TrainAcc:',\n  '0.9895667195320129',\n  'TestAcc:',\n  '0.9840273380279541\\n'],\n ['BatchSize:',\n  '128',\n  'Loss:<function',\n  'binary_crossentropy',\n  'at',\n  '0x7f76fde008c8>',\n  'Optimizer:<class',\n  \"'tensorflow.python.keras.optimizer_v2.adam.Adam'>\",\n  'LearningRate:',\n  '0.0005',\n  'TrainAcc:',\n  '0.963262963294983',\n  'TestAcc:',\n  '0.9628427505493165\\n']]"
     },
     "execution_count": 7,
     "metadata": {},
     "output_type": "execute_result"
    }
   ],
   "source": [
    "results\n"
   ]
  },
  {
   "cell_type": "code",
   "execution_count": 16,
   "metadata": {},
   "outputs": [],
   "source": [
    "final = []\n",
    "for i,r in enumerate(results):\n",
    "    row = []\n",
    "    for s in r:\n",
    "        try:\n",
    "            row.append(float(s))\n",
    "        except:\n",
    "            try:\n",
    "                row.append(funName(s))\n",
    "            except:\n",
    "                pass\n",
    "    v = np.array(row)\n",
    "    v[0] = str(int(float(v[0])))\n",
    "    v[3] = v[3].replace(\".\",\",\")\n",
    "    v[4] = str(float(v[4])*100)[:5].replace(\".\",\",\")\n",
    "    v[5] = str(float(v[5])*100)[:5].replace(\".\",\",\")\n",
    "    final.append(v)"
   ]
  },
  {
   "cell_type": "code",
   "execution_count": 17,
   "metadata": {},
   "outputs": [],
   "source": [
    "final = np.array(final)"
   ]
  },
  {
   "cell_type": "code",
   "execution_count": 15,
   "metadata": {},
   "outputs": [
    {
     "data": {
      "text/plain": "(48, 6)"
     },
     "execution_count": 15,
     "metadata": {},
     "output_type": "execute_result"
    }
   ],
   "source": [
    "final.shape"
   ]
  },
  {
   "cell_type": "code",
   "execution_count": 18,
   "metadata": {},
   "outputs": [],
   "source": [
    "np.save(\"RNN1.npy\",final)"
   ]
  },
  {
   "cell_type": "code",
   "execution_count": 16,
   "metadata": {},
   "outputs": [],
   "source": []
  }
 ],
 "metadata": {
  "kernelspec": {
   "name": "pycharm-ee7edc48",
   "language": "python",
   "display_name": "PyCharm (BigData)"
  },
  "language_info": {
   "codemirror_mode": {
    "name": "ipython",
    "version": 3
   },
   "file_extension": ".py",
   "mimetype": "text/x-python",
   "name": "python",
   "nbconvert_exporter": "python",
   "pygments_lexer": "ipython3",
   "version": "3.6.9"
  }
 },
 "nbformat": 4,
 "nbformat_minor": 4
}